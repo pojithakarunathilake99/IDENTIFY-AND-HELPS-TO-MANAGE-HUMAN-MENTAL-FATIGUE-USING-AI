{
 "cells": [
  {
   "cell_type": "code",
   "execution_count": 13,
   "metadata": {},
   "outputs": [],
   "source": [
    "import os\n",
    "import pandas as pd\n",
    "import re"
   ]
  },
  {
   "cell_type": "code",
   "execution_count": 3,
   "metadata": {},
   "outputs": [],
   "source": [
    "csv_folder = \"D:\\\\BCU Final\\\\ML\\\\Dataset\\\\NON EEG\\\\spo2\""
   ]
  },
  {
   "cell_type": "code",
   "execution_count": 4,
   "metadata": {},
   "outputs": [],
   "source": [
    "csv_files = [file for file in os.listdir(csv_folder) if file.endswith(\".csv\")]"
   ]
  },
  {
   "cell_type": "code",
   "execution_count": 5,
   "metadata": {},
   "outputs": [],
   "source": [
    "merged_data = pd.DataFrame()"
   ]
  },
  {
   "cell_type": "code",
   "execution_count": 16,
   "metadata": {},
   "outputs": [
    {
     "name": "stderr",
     "output_type": "stream",
     "text": [
      "C:\\Users\\pojit\\AppData\\Local\\Temp\\ipykernel_19724\\331356418.py:9: FutureWarning: The frame.append method is deprecated and will be removed from pandas in a future version. Use pandas.concat instead.\n",
      "  merged_data = merged_data.append(data, ignore_index=True)\n",
      "C:\\Users\\pojit\\AppData\\Local\\Temp\\ipykernel_19724\\331356418.py:9: FutureWarning: The frame.append method is deprecated and will be removed from pandas in a future version. Use pandas.concat instead.\n",
      "  merged_data = merged_data.append(data, ignore_index=True)\n",
      "C:\\Users\\pojit\\AppData\\Local\\Temp\\ipykernel_19724\\331356418.py:9: FutureWarning: The frame.append method is deprecated and will be removed from pandas in a future version. Use pandas.concat instead.\n",
      "  merged_data = merged_data.append(data, ignore_index=True)\n",
      "C:\\Users\\pojit\\AppData\\Local\\Temp\\ipykernel_19724\\331356418.py:9: FutureWarning: The frame.append method is deprecated and will be removed from pandas in a future version. Use pandas.concat instead.\n",
      "  merged_data = merged_data.append(data, ignore_index=True)\n",
      "C:\\Users\\pojit\\AppData\\Local\\Temp\\ipykernel_19724\\331356418.py:9: FutureWarning: The frame.append method is deprecated and will be removed from pandas in a future version. Use pandas.concat instead.\n",
      "  merged_data = merged_data.append(data, ignore_index=True)\n",
      "C:\\Users\\pojit\\AppData\\Local\\Temp\\ipykernel_19724\\331356418.py:9: FutureWarning: The frame.append method is deprecated and will be removed from pandas in a future version. Use pandas.concat instead.\n",
      "  merged_data = merged_data.append(data, ignore_index=True)\n",
      "C:\\Users\\pojit\\AppData\\Local\\Temp\\ipykernel_19724\\331356418.py:9: FutureWarning: The frame.append method is deprecated and will be removed from pandas in a future version. Use pandas.concat instead.\n",
      "  merged_data = merged_data.append(data, ignore_index=True)\n",
      "C:\\Users\\pojit\\AppData\\Local\\Temp\\ipykernel_19724\\331356418.py:9: FutureWarning: The frame.append method is deprecated and will be removed from pandas in a future version. Use pandas.concat instead.\n",
      "  merged_data = merged_data.append(data, ignore_index=True)\n",
      "C:\\Users\\pojit\\AppData\\Local\\Temp\\ipykernel_19724\\331356418.py:9: FutureWarning: The frame.append method is deprecated and will be removed from pandas in a future version. Use pandas.concat instead.\n",
      "  merged_data = merged_data.append(data, ignore_index=True)\n",
      "C:\\Users\\pojit\\AppData\\Local\\Temp\\ipykernel_19724\\331356418.py:9: FutureWarning: The frame.append method is deprecated and will be removed from pandas in a future version. Use pandas.concat instead.\n",
      "  merged_data = merged_data.append(data, ignore_index=True)\n",
      "C:\\Users\\pojit\\AppData\\Local\\Temp\\ipykernel_19724\\331356418.py:9: FutureWarning: The frame.append method is deprecated and will be removed from pandas in a future version. Use pandas.concat instead.\n",
      "  merged_data = merged_data.append(data, ignore_index=True)\n",
      "C:\\Users\\pojit\\AppData\\Local\\Temp\\ipykernel_19724\\331356418.py:9: FutureWarning: The frame.append method is deprecated and will be removed from pandas in a future version. Use pandas.concat instead.\n",
      "  merged_data = merged_data.append(data, ignore_index=True)\n",
      "C:\\Users\\pojit\\AppData\\Local\\Temp\\ipykernel_19724\\331356418.py:9: FutureWarning: The frame.append method is deprecated and will be removed from pandas in a future version. Use pandas.concat instead.\n",
      "  merged_data = merged_data.append(data, ignore_index=True)\n",
      "C:\\Users\\pojit\\AppData\\Local\\Temp\\ipykernel_19724\\331356418.py:9: FutureWarning: The frame.append method is deprecated and will be removed from pandas in a future version. Use pandas.concat instead.\n",
      "  merged_data = merged_data.append(data, ignore_index=True)\n",
      "C:\\Users\\pojit\\AppData\\Local\\Temp\\ipykernel_19724\\331356418.py:9: FutureWarning: The frame.append method is deprecated and will be removed from pandas in a future version. Use pandas.concat instead.\n",
      "  merged_data = merged_data.append(data, ignore_index=True)\n",
      "C:\\Users\\pojit\\AppData\\Local\\Temp\\ipykernel_19724\\331356418.py:9: FutureWarning: The frame.append method is deprecated and will be removed from pandas in a future version. Use pandas.concat instead.\n",
      "  merged_data = merged_data.append(data, ignore_index=True)\n",
      "C:\\Users\\pojit\\AppData\\Local\\Temp\\ipykernel_19724\\331356418.py:9: FutureWarning: The frame.append method is deprecated and will be removed from pandas in a future version. Use pandas.concat instead.\n",
      "  merged_data = merged_data.append(data, ignore_index=True)\n",
      "C:\\Users\\pojit\\AppData\\Local\\Temp\\ipykernel_19724\\331356418.py:9: FutureWarning: The frame.append method is deprecated and will be removed from pandas in a future version. Use pandas.concat instead.\n",
      "  merged_data = merged_data.append(data, ignore_index=True)\n",
      "C:\\Users\\pojit\\AppData\\Local\\Temp\\ipykernel_19724\\331356418.py:9: FutureWarning: The frame.append method is deprecated and will be removed from pandas in a future version. Use pandas.concat instead.\n",
      "  merged_data = merged_data.append(data, ignore_index=True)\n",
      "C:\\Users\\pojit\\AppData\\Local\\Temp\\ipykernel_19724\\331356418.py:9: FutureWarning: The frame.append method is deprecated and will be removed from pandas in a future version. Use pandas.concat instead.\n",
      "  merged_data = merged_data.append(data, ignore_index=True)\n"
     ]
    }
   ],
   "source": [
    "merged_data = pd.DataFrame()  # Initialize an empty DataFrame\n",
    "\n",
    "for file in csv_files:\n",
    "    if file.endswith('.csv') and re.search(r'Subject(\\d+)', file):\n",
    "        subject_id = re.search(r'Subject(\\d+)', file).group(1)  # Extract subject ID using regex\n",
    "        file_path = os.path.join(csv_folder, file)\n",
    "        data = pd.read_csv(file_path)\n",
    "        data['Subject ID'] = 'Subject ' + subject_id  # Add a new column for subject ID\n",
    "        merged_data = merged_data.append(data, ignore_index=True)"
   ]
  },
  {
   "cell_type": "code",
   "execution_count": 17,
   "metadata": {},
   "outputs": [
    {
     "name": "stdout",
     "output_type": "stream",
     "text": [
      "       Hour  Minute  Second  HeartRate  SpO2  Label  Subject ID\n",
      "0      15.0     8.0    28.0       96.0  97.0  Relax  Subject 10\n",
      "1      15.0     8.0    29.0       96.0  96.0  Relax  Subject 10\n",
      "2      15.0     8.0    30.0       97.0  96.0  Relax  Subject 10\n",
      "3      15.0     8.0    31.0       96.0  96.0  Relax  Subject 10\n",
      "4      15.0     8.0    32.0       96.0  96.0  Relax  Subject 10\n",
      "...     ...     ...     ...        ...   ...    ...         ...\n",
      "46224  14.0    53.0    51.0       74.0  95.0  Relax   Subject 9\n",
      "46225  14.0    53.0    52.0       74.0  95.0  Relax   Subject 9\n",
      "46226  14.0    53.0    53.0       74.0  95.0  Relax   Subject 9\n",
      "46227  14.0    53.0    54.0       74.0  95.0  Relax   Subject 9\n",
      "46228  14.0    53.0    55.0       73.0  94.0  Relax   Subject 9\n",
      "\n",
      "[46229 rows x 7 columns]\n"
     ]
    }
   ],
   "source": [
    "print(merged_data)"
   ]
  },
  {
   "cell_type": "code",
   "execution_count": 18,
   "metadata": {},
   "outputs": [],
   "source": [
    "merged_data.to_csv('D:\\\\BCU Final\\\\ML\\\\Dataset\\\\NON EEG\\\\mergeddata\\\\merged_data1.csv', index=False) "
   ]
  },
  {
   "cell_type": "code",
   "execution_count": 5,
   "metadata": {},
   "outputs": [
    {
     "name": "stderr",
     "output_type": "stream",
     "text": [
      "C:\\Users\\pojit\\AppData\\Local\\Temp\\ipykernel_22256\\1254965128.py:4: FutureWarning: The frame.append method is deprecated and will be removed from pandas in a future version. Use pandas.concat instead.\n",
      "  merged_data = merged_data.append(data, ignore_index=True)\n",
      "C:\\Users\\pojit\\AppData\\Local\\Temp\\ipykernel_22256\\1254965128.py:4: FutureWarning: The frame.append method is deprecated and will be removed from pandas in a future version. Use pandas.concat instead.\n",
      "  merged_data = merged_data.append(data, ignore_index=True)\n",
      "C:\\Users\\pojit\\AppData\\Local\\Temp\\ipykernel_22256\\1254965128.py:4: FutureWarning: The frame.append method is deprecated and will be removed from pandas in a future version. Use pandas.concat instead.\n",
      "  merged_data = merged_data.append(data, ignore_index=True)\n",
      "C:\\Users\\pojit\\AppData\\Local\\Temp\\ipykernel_22256\\1254965128.py:4: FutureWarning: The frame.append method is deprecated and will be removed from pandas in a future version. Use pandas.concat instead.\n",
      "  merged_data = merged_data.append(data, ignore_index=True)\n",
      "C:\\Users\\pojit\\AppData\\Local\\Temp\\ipykernel_22256\\1254965128.py:4: FutureWarning: The frame.append method is deprecated and will be removed from pandas in a future version. Use pandas.concat instead.\n",
      "  merged_data = merged_data.append(data, ignore_index=True)\n",
      "C:\\Users\\pojit\\AppData\\Local\\Temp\\ipykernel_22256\\1254965128.py:4: FutureWarning: The frame.append method is deprecated and will be removed from pandas in a future version. Use pandas.concat instead.\n",
      "  merged_data = merged_data.append(data, ignore_index=True)\n",
      "C:\\Users\\pojit\\AppData\\Local\\Temp\\ipykernel_22256\\1254965128.py:4: FutureWarning: The frame.append method is deprecated and will be removed from pandas in a future version. Use pandas.concat instead.\n",
      "  merged_data = merged_data.append(data, ignore_index=True)\n",
      "C:\\Users\\pojit\\AppData\\Local\\Temp\\ipykernel_22256\\1254965128.py:4: FutureWarning: The frame.append method is deprecated and will be removed from pandas in a future version. Use pandas.concat instead.\n",
      "  merged_data = merged_data.append(data, ignore_index=True)\n",
      "C:\\Users\\pojit\\AppData\\Local\\Temp\\ipykernel_22256\\1254965128.py:4: FutureWarning: The frame.append method is deprecated and will be removed from pandas in a future version. Use pandas.concat instead.\n",
      "  merged_data = merged_data.append(data, ignore_index=True)\n",
      "C:\\Users\\pojit\\AppData\\Local\\Temp\\ipykernel_22256\\1254965128.py:4: FutureWarning: The frame.append method is deprecated and will be removed from pandas in a future version. Use pandas.concat instead.\n",
      "  merged_data = merged_data.append(data, ignore_index=True)\n",
      "C:\\Users\\pojit\\AppData\\Local\\Temp\\ipykernel_22256\\1254965128.py:4: FutureWarning: The frame.append method is deprecated and will be removed from pandas in a future version. Use pandas.concat instead.\n",
      "  merged_data = merged_data.append(data, ignore_index=True)\n",
      "C:\\Users\\pojit\\AppData\\Local\\Temp\\ipykernel_22256\\1254965128.py:4: FutureWarning: The frame.append method is deprecated and will be removed from pandas in a future version. Use pandas.concat instead.\n",
      "  merged_data = merged_data.append(data, ignore_index=True)\n",
      "C:\\Users\\pojit\\AppData\\Local\\Temp\\ipykernel_22256\\1254965128.py:4: FutureWarning: The frame.append method is deprecated and will be removed from pandas in a future version. Use pandas.concat instead.\n",
      "  merged_data = merged_data.append(data, ignore_index=True)\n",
      "C:\\Users\\pojit\\AppData\\Local\\Temp\\ipykernel_22256\\1254965128.py:4: FutureWarning: The frame.append method is deprecated and will be removed from pandas in a future version. Use pandas.concat instead.\n",
      "  merged_data = merged_data.append(data, ignore_index=True)\n",
      "C:\\Users\\pojit\\AppData\\Local\\Temp\\ipykernel_22256\\1254965128.py:4: FutureWarning: The frame.append method is deprecated and will be removed from pandas in a future version. Use pandas.concat instead.\n",
      "  merged_data = merged_data.append(data, ignore_index=True)\n",
      "C:\\Users\\pojit\\AppData\\Local\\Temp\\ipykernel_22256\\1254965128.py:4: FutureWarning: The frame.append method is deprecated and will be removed from pandas in a future version. Use pandas.concat instead.\n",
      "  merged_data = merged_data.append(data, ignore_index=True)\n",
      "C:\\Users\\pojit\\AppData\\Local\\Temp\\ipykernel_22256\\1254965128.py:4: FutureWarning: The frame.append method is deprecated and will be removed from pandas in a future version. Use pandas.concat instead.\n",
      "  merged_data = merged_data.append(data, ignore_index=True)\n",
      "C:\\Users\\pojit\\AppData\\Local\\Temp\\ipykernel_22256\\1254965128.py:4: FutureWarning: The frame.append method is deprecated and will be removed from pandas in a future version. Use pandas.concat instead.\n",
      "  merged_data = merged_data.append(data, ignore_index=True)\n",
      "C:\\Users\\pojit\\AppData\\Local\\Temp\\ipykernel_22256\\1254965128.py:4: FutureWarning: The frame.append method is deprecated and will be removed from pandas in a future version. Use pandas.concat instead.\n",
      "  merged_data = merged_data.append(data, ignore_index=True)\n",
      "C:\\Users\\pojit\\AppData\\Local\\Temp\\ipykernel_22256\\1254965128.py:4: FutureWarning: The frame.append method is deprecated and will be removed from pandas in a future version. Use pandas.concat instead.\n",
      "  merged_data = merged_data.append(data, ignore_index=True)\n"
     ]
    }
   ],
   "source": [
    "for file in csv_files:\n",
    "    file_path = os.path.join(csv_folder, file)\n",
    "    data = pd.read_csv(file_path)\n",
    "    merged_data = merged_data.append(data, ignore_index=True)"
   ]
  },
  {
   "cell_type": "code",
   "execution_count": null,
   "metadata": {},
   "outputs": [],
   "source": []
  },
  {
   "cell_type": "code",
   "execution_count": 9,
   "metadata": {},
   "outputs": [],
   "source": [
    "output_file = \"D:\\\\BCU Final\\\\ML\\\\Dataset\\\\NON EEG\\\\mergeddata\\\\merged_data.csv\""
   ]
  },
  {
   "cell_type": "code",
   "execution_count": 10,
   "metadata": {},
   "outputs": [],
   "source": [
    "merged_data.to_csv(output_file, index=False)"
   ]
  }
 ],
 "metadata": {
  "kernelspec": {
   "display_name": "Python 3",
   "language": "python",
   "name": "python3"
  },
  "language_info": {
   "codemirror_mode": {
    "name": "ipython",
    "version": 3
   },
   "file_extension": ".py",
   "mimetype": "text/x-python",
   "name": "python",
   "nbconvert_exporter": "python",
   "pygments_lexer": "ipython3",
   "version": "3.10.5"
  },
  "orig_nbformat": 4
 },
 "nbformat": 4,
 "nbformat_minor": 2
}
