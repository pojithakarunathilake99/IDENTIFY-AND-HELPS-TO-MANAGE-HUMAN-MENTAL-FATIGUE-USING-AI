{
 "cells": [
  {
   "cell_type": "code",
   "execution_count": 1,
   "metadata": {},
   "outputs": [],
   "source": [
    "import os\n",
    "import shutil\n"
   ]
  },
  {
   "cell_type": "code",
   "execution_count": 3,
   "metadata": {},
   "outputs": [],
   "source": [
    "data_folder = \"D:\\\\BCU Final\\\\ML\\\\Dataset\\\\NON EEG\"\n",
    "\n"
   ]
  },
  {
   "cell_type": "code",
   "execution_count": 4,
   "metadata": {},
   "outputs": [],
   "source": [
    "output_folder = \"D:\\\\BCU Final\\\\ML\\\\Dataset\\\\NON EEG\\\\spo2\"\n",
    "os.makedirs(output_folder, exist_ok=True)\n"
   ]
  },
  {
   "cell_type": "code",
   "execution_count": null,
   "metadata": {},
   "outputs": [],
   "source": []
  },
  {
   "cell_type": "code",
   "execution_count": 6,
   "metadata": {},
   "outputs": [],
   "source": [
    "for subject_id in range(1, 21):  # Iterate from subject 2 to subject 20\n",
    "    folder_name = \"Subject\" + str(subject_id)\n",
    "    subject_folder = os.path.join(data_folder, folder_name)\n",
    "    csv_files = [file for file in os.listdir(subject_folder) if file.endswith(\"SpO2HR.csv\")]\n",
    "\n",
    "    for file in csv_files:\n",
    "        file_path = os.path.join(subject_folder, file)\n",
    "        shutil.copy2(file_path, output_folder)\n"
   ]
  }
 ],
 "metadata": {
  "kernelspec": {
   "display_name": "Python 3",
   "language": "python",
   "name": "python3"
  },
  "language_info": {
   "codemirror_mode": {
    "name": "ipython",
    "version": 3
   },
   "file_extension": ".py",
   "mimetype": "text/x-python",
   "name": "python",
   "nbconvert_exporter": "python",
   "pygments_lexer": "ipython3",
   "version": "3.10.5"
  },
  "orig_nbformat": 4
 },
 "nbformat": 4,
 "nbformat_minor": 2
}
