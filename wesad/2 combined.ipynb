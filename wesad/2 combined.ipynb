{
 "cells": [
  {
   "cell_type": "code",
   "execution_count": 1,
   "metadata": {},
   "outputs": [],
   "source": [
    "import os\n",
    "import pandas as pd\n",
    "import re"
   ]
  },
  {
   "cell_type": "code",
   "execution_count": 2,
   "metadata": {},
   "outputs": [],
   "source": [
    "import glob"
   ]
  },
  {
   "cell_type": "code",
   "execution_count": 3,
   "metadata": {},
   "outputs": [],
   "source": [
    "csv_folder = \"D:\\\\BCU Final\\\\ML\\\\Dataset\\\\Wesad Acc\\\\datasrc\"\n"
   ]
  },
  {
   "cell_type": "code",
   "execution_count": 4,
   "metadata": {},
   "outputs": [],
   "source": [
    "csv_files = [file for file in os.listdir(csv_folder) if file.endswith(\".csv\")]"
   ]
  },
  {
   "cell_type": "code",
   "execution_count": 5,
   "metadata": {},
   "outputs": [
    {
     "name": "stderr",
     "output_type": "stream",
     "text": [
      "C:\\Users\\pojit\\AppData\\Local\\Temp\\ipykernel_7208\\3758581006.py:10: FutureWarning: The frame.append method is deprecated and will be removed from pandas in a future version. Use pandas.concat instead.\n",
      "  merged_data = merged_data.append(data, ignore_index=True)\n",
      "C:\\Users\\pojit\\AppData\\Local\\Temp\\ipykernel_7208\\3758581006.py:10: FutureWarning: The frame.append method is deprecated and will be removed from pandas in a future version. Use pandas.concat instead.\n",
      "  merged_data = merged_data.append(data, ignore_index=True)\n",
      "C:\\Users\\pojit\\AppData\\Local\\Temp\\ipykernel_7208\\3758581006.py:10: FutureWarning: The frame.append method is deprecated and will be removed from pandas in a future version. Use pandas.concat instead.\n",
      "  merged_data = merged_data.append(data, ignore_index=True)\n",
      "C:\\Users\\pojit\\AppData\\Local\\Temp\\ipykernel_7208\\3758581006.py:10: FutureWarning: The frame.append method is deprecated and will be removed from pandas in a future version. Use pandas.concat instead.\n",
      "  merged_data = merged_data.append(data, ignore_index=True)\n"
     ]
    }
   ],
   "source": [
    "merged_data = pd.DataFrame()\n",
    "\n",
    "# Iterate over the CSV files and append their data to the combined DataFrame\n",
    "for file in csv_files:\n",
    "    if file.endswith('.csv') and re.search(r'S(\\d+)', file):\n",
    "        subject_id = re.search(r'S(\\d+)', file).group(1)  # Extract subject ID using regex\n",
    "        file_path = os.path.join(csv_folder, file)\n",
    "        data = pd.read_csv(file_path)\n",
    "        data['Subject ID'] = 'Subject ' + subject_id  # Add a new column for subject ID\n",
    "        merged_data = merged_data.append(data, ignore_index=True)"
   ]
  },
  {
   "cell_type": "code",
   "execution_count": null,
   "metadata": {},
   "outputs": [],
   "source": []
  },
  {
   "cell_type": "code",
   "execution_count": 6,
   "metadata": {},
   "outputs": [],
   "source": [
    "merged_data.to_csv('D:\\\\BCU Final\\\\ML\\\\Dataset\\\\Wesad Acc\\\\datasrc\\\\combined.csv', index=False)"
   ]
  }
 ],
 "metadata": {
  "kernelspec": {
   "display_name": "Python 3",
   "language": "python",
   "name": "python3"
  },
  "language_info": {
   "codemirror_mode": {
    "name": "ipython",
    "version": 3
   },
   "file_extension": ".py",
   "mimetype": "text/x-python",
   "name": "python",
   "nbconvert_exporter": "python",
   "pygments_lexer": "ipython3",
   "version": "3.10.5"
  },
  "orig_nbformat": 4
 },
 "nbformat": 4,
 "nbformat_minor": 2
}
